{
 "cells": [
  {
   "cell_type": "code",
   "execution_count": 39,
   "metadata": {},
   "outputs": [],
   "source": [
    "import pandas as pd\n",
    "import numpy as np\n",
    "import matplotlib.pyplot as plt\n",
    "import requests\n",
    "from bs4 import BeautifulSoup\n",
    "\n",
    "import json\n",
    "import time\n",
    "import copy\n",
    "from time import sleep\n",
    "from selenium import webdriver"
   ]
  },
  {
   "cell_type": "code",
   "execution_count": 40,
   "metadata": {},
   "outputs": [
    {
     "data": {
      "text/plain": [
       "200"
      ]
     },
     "execution_count": 40,
     "metadata": {},
     "output_type": "execute_result"
    }
   ],
   "source": [
    "url = 'https://www.ebay.com/urw/Google-Home-Mini-Smart-Speaker-with-Google-Assistant-Chalk-GA00210-US-/product-reviews/239112716'\n",
    "url1 = 'https://www.ebay.com/urw/Microsoft-Xbox-One-Day-One-Edition-500GB-Black-Console/product-reviews/175299667'\n",
    "url2 = 'https://www.ebay.com/urw/Sony-PlayStation-4-500GB-Jet-Black-Console/product-reviews/167317351'\n",
    "url3 = 'https://www.ebay.com/urw/Nintendo-Switch-HAC-001-01-32GB-Console-with-Gray-Joy-Con/product-reviews/25034355190?condition=new'\n",
    "\n",
    "url4 = 'https://www.ebay.com/urw/Milwaukee-2407-20-12V-Cordless-Drill-Driver/product-reviews/28030363313'\n",
    "url5 = 'https://www.ebay.com/urw/Makita-XPH12Z-18V-Lithium-Ion-Cordless-Hammer-Drill/product-reviews/809538545'\n",
    "url6 = 'https://www.ebay.com/urw/DeWalt-DCD791B-20V-Max-XR-Li-Ion-Brushless-Compact-Drill-Tool-Only-/product-reviews/13031982751'\n",
    "\n",
    "url7 = 'https://www.ebay.com/urw/Canon-EOS-5D-Mark-III-22-3MP-Digital-SLR-Camera-Black-Body-Only-/product-reviews/113297147'\n",
    "url8 = 'https://www.ebay.com/urw/Nikon-D7500-20-9MP-Digital-SLR-Camera-Black-Body-Only-/product-reviews/237096362'\n",
    "url9 = 'https://www.ebay.com/urw/Nikon-D750-24-3-MP-Digital-SLR-Camera-Black-Body-Only-/product-reviews/203954517'\n",
    "r = requests.get(url1)\n",
    "r.status_code"
   ]
  },
  {
   "cell_type": "code",
   "execution_count": 167,
   "metadata": {},
   "outputs": [
    {
     "name": "stdout",
     "output_type": "stream",
     "text": [
      "12\n"
     ]
    },
    {
     "data": {
      "text/plain": [
       "'\\n#Store all reviews on a given page\\nfor i in range(len(soup.find_all(\\'p\\',\\'review-item-content rvw-wrap-spaces\\'))):\\n    text = soup.find_all(\\'p\\',\\'review-item-content rvw-wrap-spaces\\')[i].find(\\'span\\',\\'show-full-review\\').text\\n    review_text.append(text)\\n    star_rating.append(float(soup.find_all(\\'div\\',\\'ebay-star-rating\\')[i+1].find(\\'span\\',\\'star-rating\\')[\"aria-label\"].split(\\' \\')[0]))\\n    avg_rating.append(float(soup.find_all(\\'div\\',\\'ebay-star-rating\\')[0].find(\\'span\\',\\'star-rating\\')[\"aria-label\"].split(\\' \\')[0]))\\n    product_name.append(soup.find(\\'div\\',\\'row\\').find(\\'a\\',\\'page-title\\')[\\'title\\'])\\n    product_type.append(\\'gaming console\\')\\n    category.append(\\'gaming\\')\\n    price.append(float(\\'500\\'))\\n    \\ndf = pd.DataFrame({\\'category\\':category,\\'product_type\\':product_type,\\'product_name\\':product_name,\\'avg_rating\\':avg_rating,\\n                   \\'price\\':price,\\'review_text\\':review_text,\\'star_rating\\':star_rating})\\ndf.head(10)\\n'"
      ]
     },
     "execution_count": 167,
     "metadata": {},
     "output_type": "execute_result"
    }
   ],
   "source": [
    "soup = BeautifulSoup(r.text,'html.parser')\n",
    "#soup.find_all('p','review-item-content rvw-wrap-spaces')[0].find('span','show-full-review').text\n",
    "#soup.find_all('div','review-section-header')\n",
    "#lst = [i.text for i in soup.find_all('div','reviews-divider')]\n",
    "\n",
    "category = []\n",
    "product_type = []\n",
    "product_name = []\n",
    "avg_rating = []\n",
    "price = []\n",
    "review_text = []\n",
    "star_rating = []\n",
    "word_count = []\n",
    "\n",
    "def parse_product_category(url):\n",
    "    '''\n",
    "    Returns the product category for a given product\n",
    "    Input: URL of the product page to be parsed\n",
    "    Output: String with the product category name\n",
    "    '''\n",
    "    \n",
    "    return product_category\n",
    "    \n",
    "def parse_product_type(url):    \n",
    "    '''\n",
    "    Returns the product type for a given product\n",
    "    Input: URL of the product page to be parsed\n",
    "    Output: String with the product type name\n",
    "    '''\n",
    "    \n",
    "    return product_type\n",
    "\n",
    "def text_word_count(txt):    \n",
    "    '''\n",
    "    Returns the word count for a given test\n",
    "    Input: URL of the product page to be parsed\n",
    "    Output: String with the product type name\n",
    "    '''\n",
    "    word_count = len([elem.strip(\"(),.!?;:[]{}\\|*%$#@/`~\") \n",
    "                      for elem in txt.split(' ') \n",
    "                      if elem.strip(\"(),.!?;:[]{}\\|*%$#@/`~\")!=''])\n",
    "    return word_count    \n",
    "\n",
    "'''\n",
    "#Store all reviews on a given page\n",
    "for i in range(len(soup.find_all('p','review-item-content rvw-wrap-spaces'))):\n",
    "    text = soup.find_all('p','review-item-content rvw-wrap-spaces')[i].find('span','show-full-review').text\n",
    "    review_text.append(text)\n",
    "    word_count.append(text_word_count(text))\n",
    "    star_rating.append(float(soup.find_all('div','ebay-star-rating')[i+1].find('span','star-rating')[\"aria-label\"].split(' ')[0]))\n",
    "    avg_rating.append(float(soup.find_all('div','ebay-star-rating')[0].find('span','star-rating')[\"aria-label\"].split(' ')[0]))\n",
    "    product_name.append(soup.find('div','row').find('a','page-title')['title'])\n",
    "    product_type.append('gaming console')\n",
    "    category.append('gaming')\n",
    "    price.append(float('500'))\n",
    "    \n",
    "df = pd.DataFrame({'category':category,'product_type':product_type,'product_name':product_name,'avg_rating':avg_rating,\n",
    "                   'price':price,'review_text':review_text,'word_count':word_count,'star_rating':star_rating})\n",
    "df.head(10)\n",
    "'''"
   ]
  },
  {
   "cell_type": "code",
   "execution_count": null,
   "metadata": {},
   "outputs": [],
   "source": []
  }
 ],
 "metadata": {
  "kernelspec": {
   "display_name": "Python 3",
   "language": "python",
   "name": "python3"
  },
  "language_info": {
   "codemirror_mode": {
    "name": "ipython",
    "version": 3
   },
   "file_extension": ".py",
   "mimetype": "text/x-python",
   "name": "python",
   "nbconvert_exporter": "python",
   "pygments_lexer": "ipython3",
   "version": "3.8.5"
  }
 },
 "nbformat": 4,
 "nbformat_minor": 4
}
